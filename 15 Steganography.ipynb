{
 "cells": [
  {
   "cell_type": "markdown",
   "metadata": {
    "hide_cell": true
   },
   "source": [
    "<span class='note'><i>Make me look good.</i> Click on the cell below and press <kbd>Ctrl</kbd>+<kbd>Enter</kbd>.</span>"
   ]
  },
  {
   "cell_type": "code",
   "execution_count": null,
   "metadata": {
    "hide_cell": true
   },
   "outputs": [],
   "source": [
    "from IPython.core.display import HTML\n",
    "HTML(open('css/custom.css', 'r').read())"
   ]
  },
  {
   "cell_type": "markdown",
   "metadata": {
    "hide_cell": true
   },
   "source": [
    "<h5 class='prehead'>SM286D &middot; Introduction to Applied Mathematics with Python &middot; Spring 2020 &middot; Uhan</h5>\n",
    "\n",
    "<h5 class='lesson'>Lesson 15.</h5>\n",
    "\n",
    "<h1 class='lesson_title'>Steganography</h1>"
   ]
  },
  {
   "cell_type": "markdown",
   "metadata": {},
   "source": [
    "## This lesson..."
   ]
  },
  {
   "cell_type": "markdown",
   "metadata": {},
   "source": [
    "- Warm up: images as matrices\n",
    "- What is steganography?\n",
    "- Bit shifting\n",
    "- Steganography"
   ]
  },
  {
   "cell_type": "markdown",
   "metadata": {},
   "source": [
    "---"
   ]
  },
  {
   "cell_type": "markdown",
   "metadata": {},
   "source": [
    "## Warm up"
   ]
  },
  {
   "cell_type": "markdown",
   "metadata": {},
   "source": [
    "__Example.__\n",
    "Make a 101 by 101 pixel image of the maritime flag for Z, pictured below. Display your image."
   ]
  },
  {
   "cell_type": "markdown",
   "metadata": {},
   "source": [
    "<img src=\"img/Zulu.png\" alt=\"Drawing\" style=\"width:200px;padding-bottom:20px;\"/>\n",
    "\n",
    "<center>Figure 1. The maritime flag for Z.</center>"
   ]
  },
  {
   "cell_type": "code",
   "execution_count": null,
   "metadata": {
    "scrolled": true
   },
   "outputs": [],
   "source": []
  },
  {
   "cell_type": "markdown",
   "metadata": {},
   "source": [
    "---"
   ]
  },
  {
   "cell_type": "markdown",
   "metadata": {},
   "source": [
    "## What is steganography?"
   ]
  },
  {
   "cell_type": "markdown",
   "metadata": {},
   "source": [
    "- Etymology of the word *steganography*:\n",
    "    - $ \\sigma \\tau \\epsilon \\gamma \\alpha \\nu o \\sigma $ (steganos): Covered, sheathed, enclosing, etc.\n",
    "    - $ \\gamma \\rho \\alpha \\phi o \\sigma $ (graphos): Writing, drawing, etc.\n",
    "\n",
    "- __Steganography__ is the practice of concealing messages or information within other nonsecret text or data.\n",
    " \n",
    "- Examples of steganography:\n",
    "    - Herodotus (440 BC)\n",
    "        > \"When thou art come to Miletus, bid Aristagoras shave thy head, and look thereon.\"\n",
    "    - Rear Admiral Jeremiah Denton, USN\n",
    "        - USNA Class of 1947.\n",
    "        - POW during Vietnam War.\n",
    "        - In 1966, during a televised propaganda interview broadcast to United States, he blinked the word \"TORTURE\" using Morse code."
   ]
  },
  {
   "cell_type": "markdown",
   "metadata": {},
   "source": [
    "- __Our goal in this lesson: hiding images in other images.__"
   ]
  },
  {
   "cell_type": "markdown",
   "metadata": {},
   "source": [
    "## Bit shifting"
   ]
  },
  {
   "cell_type": "markdown",
   "metadata": {},
   "source": [
    "- Recall from the previous lesson... For binary numbers:\n",
    "    - A 1 is known as an __on bit__ and a 0 is known as an __off bit__.\n",
    "    - We index the bits from right to left, starting at 0.\n",
    "    - The leftmost bit is the __most significant bit__. The rightmost bit is the __least signficant bit__."
   ]
  },
  {
   "cell_type": "markdown",
   "metadata": {},
   "source": [
    "- __Bit shifting__ is the act of moving the digits of a binary number to the left or right.\n",
    "\n",
    "- For example, starting with $23 = [00010111]_2$:\n",
    "\n",
    "\\begin{align*}\n",
    "\\text{left-shift} & \\Longrightarrow [00101110]_2\\\\\n",
    "\\text{right-shift} & \\Longrightarrow [00001011]_2\\\\\n",
    "\\end{align*}\n",
    "\n",
    "- Note:\n",
    "    - when left-shifting, a new 0 was shifted into the rightmost position,\n",
    "    - when right-shifting, a new 0 was shifted into the leftmost position.\n",
    "\n",
    "- You can bit shift integers with NumPy using `np.left_shift()` [(documentation)](https://docs.scipy.org/doc/numpy/reference/generated/numpy.left_shift.html) and `np.right_shift()` [(documentation)](https://docs.scipy.org/doc/numpy/reference/generated/numpy.right_shift.html)."
   ]
  },
  {
   "cell_type": "markdown",
   "metadata": {},
   "source": [
    "__Example.__ Using `np.left_shift()` and `np.right_shift()`, left-shift and right-shift the integer 23 by 1 bit. Does what you get match with the above?"
   ]
  },
  {
   "cell_type": "code",
   "execution_count": null,
   "metadata": {},
   "outputs": [],
   "source": [
    "# Left-shift 23 by 1 bit\n",
    "\n",
    "\n",
    "# Right-shift 23 by 1 bit\n"
   ]
  },
  {
   "cell_type": "markdown",
   "metadata": {},
   "source": [
    "_Write your notes here. Double-click to edit._"
   ]
  },
  {
   "cell_type": "markdown",
   "metadata": {},
   "source": [
    "- What happens when we shift a value 2 bits to the right, and then 2 bits to the left?"
   ]
  },
  {
   "cell_type": "code",
   "execution_count": null,
   "metadata": {},
   "outputs": [],
   "source": [
    "# 6 = 00000110 in binary\n",
    "r = 6\n",
    "\n",
    "# Shift r 2 bits to the right, and then 2 bits to the left\n",
    "print(np.left_shift(np.right_shift(r, 2), 2))\n",
    "\n",
    "# 4 = 00000100 in binary"
   ]
  },
  {
   "cell_type": "markdown",
   "metadata": {},
   "source": [
    "- This process zeros out the two rightmost bits (bits 0 and 1), resulting in the 8-bit integer $[00000100]_2$, which is equivalent to 4 in Base 10."
   ]
  },
  {
   "cell_type": "markdown",
   "metadata": {},
   "source": [
    "- We can also bit shift entire arrays, such as those representing an image.\n",
    " \n",
    "- The code below shifts the array corresponding to the image file `calico_cat_in_greece.jpg` (in the same folder as this notebook)  6 bits to the right and then back 6 bits to the left.\n",
    "\n",
    "- This process will zero out the rightmost 6 bits (bits 0, 1, 2, 3, 4, and 5)."
   ]
  },
  {
   "cell_type": "code",
   "execution_count": null,
   "metadata": {},
   "outputs": [],
   "source": [
    "import matplotlib.image as img\n",
    "\n",
    "# Read image file and store as array\n",
    "cat = img.imread('calico_cat_in_greece.jpg')\n",
    "\n",
    "# Show original image\n",
    "plt.imshow(cat)"
   ]
  },
  {
   "cell_type": "code",
   "execution_count": null,
   "metadata": {
    "scrolled": true
   },
   "outputs": [],
   "source": [
    "# Bit shift array: 6 to the right, then 6 to the left\n",
    "cat_new = np.left_shift(np.right_shift(cat, 6), 6)\n",
    "\n",
    "# Show resulting image\n",
    "plt.imshow(cat_new)"
   ]
  },
  {
   "cell_type": "markdown",
   "metadata": {},
   "source": [
    "- Note that the image looks similar, even though we changed 6 out of 8 bits representing the RGB values for each pixel... 🤔"
   ]
  },
  {
   "cell_type": "markdown",
   "metadata": {},
   "source": [
    "## Steganography"
   ]
  },
  {
   "cell_type": "markdown",
   "metadata": {},
   "source": [
    "- We use three 8-bit integers to represent the color of each pixel\n",
    "\n",
    "- How important is each bit?\n",
    "\n",
    "- Are some more important than others?\n",
    "\n",
    "- How will switching certain bits to \"off\" affect the image?"
   ]
  },
  {
   "cell_type": "markdown",
   "metadata": {},
   "source": [
    "### Turning bits off"
   ]
  },
  {
   "cell_type": "markdown",
   "metadata": {},
   "source": [
    "- Figure 2 illustrates what happens when we switch the least signficant bit (bit 0) to the \"off\" position."
   ]
  },
  {
   "cell_type": "markdown",
   "metadata": {},
   "source": [
    "<img src=\"img/bit0a.png\" alt=\"Drawing\" style=\"width:400px;padding-bottom:20px;\"/>\n",
    "\n",
    "<center>Figure 2. Turning bit 0 off.</center>"
   ]
  },
  {
   "cell_type": "markdown",
   "metadata": {},
   "source": [
    "- The code in the cell below turns \"off\" bits in order from least significant to most significant in the 3D array associated with the image in `GooseIsland.jpg` (in the same folder as this notebook).\n",
    "\n",
    "- Compare the images below.  At what point do you start to be able to see a difference in the image?"
   ]
  },
  {
   "cell_type": "code",
   "execution_count": null,
   "metadata": {},
   "outputs": [],
   "source": [
    "# Read the image file\n",
    "goose_island = img.imread('GooseIsland.jpg')\n",
    "\n",
    "# Create figure with size 15 (width) x 10 (height)\n",
    "fig = plt.figure(figsize=(15, 10))\n",
    "\n",
    "for i in range(8):\n",
    "    # Add subplots in order from top left to bottom right\n",
    "    # Remember that Matplotlib indexes subplots starting at 1\n",
    "    ax = fig.add_subplot(2, 4, i + 1)\n",
    "    \n",
    "    # Shift the image left and right by i bits to zero out the bits in order\n",
    "    # This will zero out the i rightmost bits\n",
    "    img_shift = np.left_shift(np.right_shift(goose_island, i), i)\n",
    "    \n",
    "    # Plot the shifted image\n",
    "    plt.imshow(img_shift)\n",
    "    \n",
    "    # Set title for subplot\n",
    "    if i == 0:\n",
    "        ax.set_title(f\"Original Image\")\n",
    "    elif i == 1:\n",
    "        ax.set_title(f\"Bit {i - 1} Off\")\n",
    "    else:\n",
    "        ax.set_title(f\"Bit {i - 1} and Below Off\")\n",
    "        \n",
    "# Display figure\n",
    "fig.tight_layout(pad=.8)\n",
    "fig.show(warn=False)  # Avoid backend warnings with keyword argument warn=False"
   ]
  },
  {
   "cell_type": "markdown",
   "metadata": {},
   "source": [
    "- It is clear from the images above that as the bit number increases, the effect on the image increases as well."
   ]
  },
  {
   "cell_type": "markdown",
   "metadata": {},
   "source": [
    "### Hiding an image"
   ]
  },
  {
   "cell_type": "markdown",
   "metadata": {},
   "source": [
    "- Read through the background section of Project 6 in order to get a short overview of the history of steganography, with particular emphasis on the experience of the U.S. Navy. \n",
    "\n",
    "- Then try the remaining problems, which will guide you through the process of hiding an image!"
   ]
  },
  {
   "cell_type": "markdown",
   "metadata": {},
   "source": [
    "__Problem 1.__ Load the image in `football_team.jpg` (in the same folder as this notebook) into an array named `cover`. Display the image. We will call this the __cover image__: the image we will use to hide a secret image. "
   ]
  },
  {
   "cell_type": "code",
   "execution_count": null,
   "metadata": {},
   "outputs": [],
   "source": []
  },
  {
   "cell_type": "markdown",
   "metadata": {},
   "source": [
    "Bit shift the array `cover` 4 bits to the right and then 4 bits to the left to zero out the 4 lower bits. Call the new array `cover_shifted`. Display the bit shifted image."
   ]
  },
  {
   "cell_type": "code",
   "execution_count": null,
   "metadata": {},
   "outputs": [],
   "source": []
  },
  {
   "cell_type": "markdown",
   "metadata": {},
   "source": [
    "Now load the image in `enterprise.jpg` into an array named `secret`. We will call this the __secret image__: the image that we will hide and then later recover. Display the secret image. "
   ]
  },
  {
   "cell_type": "code",
   "execution_count": null,
   "metadata": {},
   "outputs": [],
   "source": []
  },
  {
   "cell_type": "markdown",
   "metadata": {},
   "source": [
    "Bit shift the array `secret` 4 bits to the right. Call the resulting array `secret_shifted`. Display the image."
   ]
  },
  {
   "cell_type": "code",
   "execution_count": null,
   "metadata": {},
   "outputs": [],
   "source": []
  },
  {
   "cell_type": "markdown",
   "metadata": {},
   "source": [
    "Add the arrays `cover_shifted` and `secret_shifted` together and store the result in an array named `steg`. Display the image. This is the image that we would, say, publish on a website for everyone to see. "
   ]
  },
  {
   "cell_type": "code",
   "execution_count": null,
   "metadata": {},
   "outputs": [],
   "source": []
  },
  {
   "cell_type": "markdown",
   "metadata": {},
   "source": [
    "__Problem 2.__ Now pretend you're the one who needs to recover the secret. You've been given the image represented by the array `steg` you created in Problem 1. Bit shift the array `steg` 4 bits to the left. Store the result in an array named `recovered`. This is the image that we would recover, holding most of the information in `secret`. Display the image corresponding to `recovered`.  "
   ]
  },
  {
   "cell_type": "code",
   "execution_count": null,
   "metadata": {
    "scrolled": true
   },
   "outputs": [],
   "source": []
  },
  {
   "cell_type": "markdown",
   "metadata": {},
   "source": [
    "__Problem 3.__\n",
    "In practice, you would write the `steg` array from Problem 1 to an image file. However, you need to be careful about which _image format_ you use.\n",
    "\n",
    "In the code cells below, we write the `steg` array from Problem 1 to a JPEG file called `steg.jpg`. Then we try to read `steg.jpg` back into Python, and recover the secret image as we did in Problem 2."
   ]
  },
  {
   "cell_type": "code",
   "execution_count": null,
   "metadata": {},
   "outputs": [],
   "source": [
    "# Write steg to a file\n",
    "plt.imsave('steg.jpg', steg, format='jpg')"
   ]
  },
  {
   "cell_type": "code",
   "execution_count": null,
   "metadata": {},
   "outputs": [],
   "source": [
    "# Load the steganography image\n",
    "# Display the image\n",
    "steg_from_jpg = img.imread('steg.jpg')\n",
    "plt.imshow(steg_from_jpg)"
   ]
  },
  {
   "cell_type": "code",
   "execution_count": null,
   "metadata": {},
   "outputs": [],
   "source": [
    "# Recover the secret image\n",
    "# Display the recovered secret image\n",
    "recovered_from_jpg = np.left_shift(steg_from_jpg, 4)\n",
    "plt.imshow(recovered_from_jpg)"
   ]
  },
  {
   "cell_type": "markdown",
   "metadata": {},
   "source": [
    "This isn't very useful... 😕\n",
    "\n",
    "Why does this happen?\n",
    "When you save an image as a JPEG file, the image is first compressed: not every color is saved in its original form. This leads to the loss of the less significant bits describing the contents of the pixels. \n",
    "\n",
    "Ordinarily, this wouldn't be a problem since our eyes can't see the difference in colors. However, if you are trying to store important information in the less significant bits of the saved image, compression will destroy that data. "
   ]
  },
  {
   "cell_type": "markdown",
   "metadata": {},
   "source": [
    "One way to correct this problem is to save our images in a format that doesn't try to compress the file. The PNG format is one such format. The code below saves and reads in the picture in PNG format. \n",
    "\n",
    "One issue is that when `img.imread()` reads a PNG file, it stores the color values as numbers between 0 and 1 instead of between 0 and 255. To fix this, we multiply the values by 255, round to the nearest integer, and then convert the result to the uint8 format."
   ]
  },
  {
   "cell_type": "code",
   "execution_count": null,
   "metadata": {},
   "outputs": [],
   "source": [
    "# Write steg to a file using the PNG format, a lossless format!\n",
    "plt.imsave('steg.png', steg, format='png')"
   ]
  },
  {
   "cell_type": "code",
   "execution_count": null,
   "metadata": {},
   "outputs": [],
   "source": [
    "# Load the steganography image\n",
    "# Display the image\n",
    "steg_from_png = img.imread('steg.png')\n",
    "plt.imshow(steg_from_png)\n",
    "\n",
    "# PNG values are given as floats between 0 and 1 rather than 8-bit\n",
    "# integers. We multiply by 255, round and convert the results to uint8.\n",
    "steg_from_png_8bit = (steg_from_png * 255).round().astype(np.uint8)"
   ]
  },
  {
   "cell_type": "code",
   "execution_count": null,
   "metadata": {},
   "outputs": [],
   "source": [
    "# Recover the secret image\n",
    "# Display the recovered secret image\n",
    "recovered_from_png = np.left_shift(steg_from_png_8bit, 4)\n",
    "plt.imshow(recovered_from_png)"
   ]
  },
  {
   "cell_type": "markdown",
   "metadata": {},
   "source": [
    "Much better! 👍"
   ]
  },
  {
   "cell_type": "markdown",
   "metadata": {},
   "source": [
    "## Bonus classwork\n",
    "\n",
    "__Attempt these only once you've completed the problems above.__"
   ]
  },
  {
   "cell_type": "markdown",
   "metadata": {},
   "source": [
    "__Problem 4.__\n",
    "Now we'll try a more complicated situation.\n",
    "\n",
    "Sometimes the images you want to use for steganography aren't the same size. You can use another application (like Paint or Adobe Photoshop) to resize the images first so they are the same size.\n",
    "\n",
    "In the same folder as this notebook, there are two image files, `Cinque-terre.jpg` and `Atlantic-Ocean-Road-in-Norway.jpg`.\n",
    "\n",
    "To use the Paint application to resize these images:\n",
    "\n",
    "- Open both files in the __Paint__ application (search for Paint in the Windows Start menu).\n",
    "\n",
    "- In the __Home__ ribbon, click on the __Resize__ button. \n",
    "\n",
    "- A dialog box shoud appear. Click the __Pixels__ radio button to see the size of the image. You can adjust the image size by entering the new size in the spaces provided. \n",
    "\n",
    "- If you want to adjust the image size, and change the aspect ratio (the ratio of width to height), then unclick the __Maintain aspect ratio__ checkbox. \n",
    "\n",
    "Modify one or both of the files so that the two files have the same dimensions. Save the files and then hide one file inside the other. You should be able to reuse most of your code from Problems 1-3 with minor modifications. Try to recover the hidden file from the steganography file."
   ]
  },
  {
   "cell_type": "code",
   "execution_count": null,
   "metadata": {},
   "outputs": [],
   "source": []
  },
  {
   "cell_type": "markdown",
   "metadata": {},
   "source": [
    "__Problem 5.__\n",
    "In the same folder as this notebook, there are image files called `chittorgarh_fort_india.jpg` and `Tuscany-Italy.jpg`. \n",
    "\n",
    "The picture of the fort is smaller than the picture of the Italian countryside. Make a new image of the fort\n",
    "that is the same size as the picture of Tuscany, by surrounding the picture of the fort with a border. The border can by any color you choose. (See Problem 8 from Lesson 14 for hints.)\n",
    "\n",
    "Next, hide the new image of the fort inside the picture of Tuscany. Recover your secret image from the steganography file. Are these good images to use for steganography? Why or why not? "
   ]
  },
  {
   "cell_type": "code",
   "execution_count": null,
   "metadata": {},
   "outputs": [],
   "source": []
  }
 ],
 "metadata": {
  "kernelspec": {
   "display_name": "Python 3",
   "language": "python",
   "name": "python3"
  },
  "language_info": {
   "codemirror_mode": {
    "name": "ipython",
    "version": 3
   },
   "file_extension": ".py",
   "mimetype": "text/x-python",
   "name": "python",
   "nbconvert_exporter": "python",
   "pygments_lexer": "ipython3",
   "version": "3.7.6"
  }
 },
 "nbformat": 4,
 "nbformat_minor": 2
}
